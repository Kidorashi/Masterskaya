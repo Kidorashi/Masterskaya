{
 "cells": [
  {
   "cell_type": "code",
   "execution_count": 1,
   "metadata": {
    "collapsed": true
   },
   "outputs": [],
   "source": [
    "import re\n",
    "import os\n",
    "vow = 'aȃáiîíuúoóôeéêę'\n",
    "cons = 'bcdðfghjklmnprstvwxz'"
   ]
  },
  {
   "cell_type": "markdown",
   "metadata": {},
   "source": [
    "Предобработка."
   ]
  },
  {
   "cell_type": "code",
   "execution_count": 34,
   "metadata": {
    "collapsed": true
   },
   "outputs": [],
   "source": [
    "def get_names(directory):\n",
    "    name_text = []\n",
    "    for filename in os.listdir(directory):\n",
    "        with open(directory + filename, \"r\", encoding=\"utf-8\") as f:\n",
    "            a = []\n",
    "            filename = filename.replace('.txt', '')\n",
    "            a.append(filename)\n",
    "            a.append(clean_text(f.read()))\n",
    "            name_text.append(a)\n",
    "    return name_text"
   ]
  },
  {
   "cell_type": "code",
   "execution_count": 18,
   "metadata": {},
   "outputs": [],
   "source": [
    "def clean_text(text):\n",
    "    new_text = re.sub(\"\\n\", \" \", text)\n",
    "    new_text = re.sub(\"<.+?>.+?</.+?>\", \"\", new_text)\n",
    "    new_text = re.sub(r'[^\\w\\s]','',new_text)\n",
    "    new_text = re.sub(r'[\\d]',' ',new_text)\n",
    "    new_text = new_text.lower()\n",
    "    for word in new_text.split(' '):\n",
    "        if len(word)==1:\n",
    "            new_text = new_text.replace(word, '')\n",
    "    new_text = re.sub('  ','',new_text)\n",
    "    return new_text.rstrip().split(' ')"
   ]
  },
  {
   "cell_type": "code",
   "execution_count": 35,
   "metadata": {},
   "outputs": [],
   "source": [
    "direct = 'C:\\\\Users\\\\1\\\\Desktop\\\\Kidorashi\\\\master\\\\texts\\\\'\n",
    "name_text = get_names(direct) #список формата [[название, текст], [название, текст]]"
   ]
  },
  {
   "cell_type": "code",
   "execution_count": 25,
   "metadata": {
    "collapsed": true
   },
   "outputs": [],
   "source": [
    "def lists():\n",
    "    global vow, cons\n",
    "    vow = list(vow)\n",
    "    cons = list(cons)\n",
    "    return"
   ]
  },
  {
   "cell_type": "code",
   "execution_count": 38,
   "metadata": {},
   "outputs": [],
   "source": [
    "def word_begin(word, name):\n",
    "    if word.startswith('th') and name == 'tatian':\n",
    "        word = re.sub('^th', 'd', word)\n",
    "    elif word.startswith('hl'):\n",
    "        word = re.sub('^hl', 'l', word)\n",
    "    elif word.startswith('hn'):\n",
    "        word = re.sub('^hn', 'n', word)\n",
    "    elif word.startswith('hr'):\n",
    "        word = re.sub('^hr', 'r', word)\n",
    "    elif word.startswith('ch') and word[2] == 'i' and name == 'isidor':\n",
    "        word = re.sub('^ch', 'g', word)\n",
    "    elif word.startswith('hu') and word[2] in vow:\n",
    "        word = re.sub('^hu', 'w', word)\n",
    "    elif word.startswith('z'):\n",
    "        word = re.sub('^z', 'z', word)\n",
    "    elif word.startswith('ch'):\n",
    "        word = re.sub('^ch', 'k', word)\n",
    "    elif word.startswith('kh'):\n",
    "        word = re.sub('^kh', 'k', word)\n",
    "    elif word.startswith('h'):\n",
    "        word = re.sub(r\"h(?=(\"+'|'.join(vow)+r\"))\", \"h\", word)\n",
    "    else:\n",
    "        return word\n",
    "    return word"
   ]
  },
  {
   "cell_type": "code",
   "execution_count": 40,
   "metadata": {},
   "outputs": [],
   "source": [
    "def word_any(word, name):\n",
    "    word = re.sub('dh', 'd', word)\n",
    "    if name == 'hildebrandslied':\n",
    "        word = re.sub('ð', 'd', word)\n",
    "    if 'isidor' in name:\n",
    "        word = re.sub('gh', 'g', word)\n",
    "        word = re.sub('tz', 'zz', word)\n",
    "    word = re.sub('pph', 'pf', word)\n",
    "    word = re.sub('sc', 'sk', word)\n",
    "    word = re.sub('sch', 'sk', word)\n",
    "    word = re.sub('kch', 'k', word)\n",
    "    word = re.sub('qu', 'kw', word)\n",
    "    word = re.sub('quh', 'kw', word)\n",
    "    word = re.sub('(?<!l|p|r)ph', 'pf', word)\n",
    "    word = re.sub('v(?!v)', 'f', word)\n",
    "    word = re.sub('c(?!h|e|i)', 'k', word)\n",
    "    return word"
   ]
  },
  {
   "cell_type": "code",
   "execution_count": 41,
   "metadata": {
    "collapsed": true
   },
   "outputs": [],
   "source": [
    "def word_vowel(word, name):\n",
    "    if name == 'isidor':\n",
    "        word = re.sub(r\"(?<=(\"+'|'.join(vow)+r\"))zss\", \"ȥȥ\", word)\n",
    "    word = re.sub(r\"(?<=(\"+'|'.join(vow)+r\"))c(?=(e|i))\", \"z\", word)\n",
    "    word = re.sub(r\"(?<=(\"+'|'.join(vow)+r\"))c(?!(\" + '|'.join(cons) +r\"))\", \"z\", word) # РАБОТАЕТ\n",
    "    word = re.sub(r\"(?<=(\"+'|'.join(vow)+r\"))zss^\\\\b\", \"ȥȥ\", word)\n",
    "    word = re.sub(r\"(?<=(\"+'|'.join(vow)+r\"))zss\\\\b\", \"ȥ\", word)\n",
    "    return word"
   ]
  },
  {
   "cell_type": "code",
   "execution_count": 31,
   "metadata": {
    "collapsed": true
   },
   "outputs": [],
   "source": [
    "def word_consonant(word):\n",
    "    word = re.sub(r\"(?<=(\"+'|'.join(cons)+r\"))zz\", \"z\", word)\n",
    "    word = re.sub('(?<=l|r)ph', 'f', word)\n",
    "    if 'cch' and 'kch' and 'sch' not in word:\n",
    "        word = re.sub(r\"(?<=(\"+'|'.join(cons)+r\"))ch\", \"k\", word)\n",
    "    if 'skh' not in word:\n",
    "        word = re.sub(r\"(?<=(\"+'|'.join(cons)+r\"))kh\", \"k\", word)\n",
    "    return word"
   ]
  },
  {
   "cell_type": "code",
   "execution_count": 32,
   "metadata": {
    "collapsed": true
   },
   "outputs": [],
   "source": [
    "def word_intervoc(word):\n",
    "    word = re.sub(r\"(?<=(\"+'|'.join(vow)+r\"))zc(?!(\" + '|'.join(vow) +r\"))\", \"ȥȥ\", word)\n",
    "    word = re.sub(r\"(?<=(\"+'|'.join(vow)+r\"))h(?!(\" + '|'.join(vow) +r\"))\", \"hȥ\", word)\n",
    "    return word"
   ]
  },
  {
   "cell_type": "code",
   "execution_count": 33,
   "metadata": {
    "collapsed": true
   },
   "outputs": [],
   "source": [
    "def word_work(word, name):\n",
    "    word = word_begin(word, name)\n",
    "    word = word_any(word, name)\n",
    "    word = word_vowel(word, name)\n",
    "    word = word_consonant(word)\n",
    "    word = word_intervoc(word)\n",
    "    return(word)"
   ]
  },
  {
   "cell_type": "code",
   "execution_count": 57,
   "metadata": {},
   "outputs": [],
   "source": [
    "def add_word(word, new_word, dict_words):\n",
    "    if new_word in dict_words and word not in dict_words[new_word]:\n",
    "        dict_words[new_word].append(word)\n",
    "    else:\n",
    "        dict_words[new_word] = [word]\n",
    "    return dict_words"
   ]
  },
  {
   "cell_type": "code",
   "execution_count": 58,
   "metadata": {
    "collapsed": true
   },
   "outputs": [],
   "source": [
    "dict_words = {}\n",
    "\n",
    "for text in name_text:\n",
    "    for word in text[1]:\n",
    "        new_word = word_work(word, text[0])\n",
    "        dict_words = add_word(word, new_word, dict_words)"
   ]
  }
 ],
 "metadata": {
  "kernelspec": {
   "display_name": "Python 3",
   "language": "python",
   "name": "python3"
  },
  "language_info": {
   "codemirror_mode": {
    "name": "ipython",
    "version": 3
   },
   "file_extension": ".py",
   "mimetype": "text/x-python",
   "name": "python",
   "nbconvert_exporter": "python",
   "pygments_lexer": "ipython3",
   "version": "3.6.2"
  }
 },
 "nbformat": 4,
 "nbformat_minor": 2
}
